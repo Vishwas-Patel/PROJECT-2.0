{
 "cells": [
  {
   "cell_type": "code",
   "execution_count": 30,
   "id": "cbfcf16a",
   "metadata": {},
   "outputs": [
    {
     "name": "stdout",
     "output_type": "stream",
     "text": [
      "Rock Paper and Scissor Game\n",
      "Enter Rock/Paper/Scissor : Scissor\n",
      "Enter Rock/Paper/Scissor : Paper\n",
      "Person1 win\n"
     ]
    }
   ],
   "source": [
    "print(\"Rock Paper and Scissor Game\")\n",
    "person1 = str(input(\"Enter Rock/Paper/Scissor : \"))\n",
    "person2 = str(input(\"Enter Rock/Paper/Scissor : \"))\n",
    "if (person1=='Rock') and (person2=='Paper'):\n",
    "    print(\"Person2 win\")\n",
    "elif (person1=='Paper') and (person2=='Rock'):\n",
    "        print(\"Person1 win\")\n",
    "elif (person1=='Rock') and (person2=='Scissor'):\n",
    "        print(\"Person1 win\")\n",
    "elif (person1=='Scissor') and (person2=='Paper'):\n",
    "        print(\"Person1 win\")\n",
    "elif (person1=='Paper') and (person2=='Scissor'):\n",
    "        print(\"Person2 win\")\n",
    "elif (person1=='Scissor') and (person2=='Rock'):\n",
    "        print(\"Person2 win\")\n",
    "else:\n",
    "    print(\"Draw\")"
   ]
  },
  {
   "cell_type": "code",
   "execution_count": null,
   "id": "d8ac6947",
   "metadata": {},
   "outputs": [],
   "source": []
  },
  {
   "cell_type": "code",
   "execution_count": null,
   "id": "d9145223",
   "metadata": {},
   "outputs": [],
   "source": []
  }
 ],
 "metadata": {
  "kernelspec": {
   "display_name": "Python 3",
   "language": "python",
   "name": "python3"
  },
  "language_info": {
   "codemirror_mode": {
    "name": "ipython",
    "version": 3
   },
   "file_extension": ".py",
   "mimetype": "text/x-python",
   "name": "python",
   "nbconvert_exporter": "python",
   "pygments_lexer": "ipython3",
   "version": "3.8.8"
  }
 },
 "nbformat": 4,
 "nbformat_minor": 5
}
